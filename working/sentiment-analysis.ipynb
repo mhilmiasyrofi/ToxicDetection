{
 "cells": [
  {
   "cell_type": "code",
   "execution_count": 5,
   "id": "dependent-saint",
   "metadata": {},
   "outputs": [],
   "source": [
    "from transformers import AutoModelForSequenceClassification\n",
    "from transformers import TFAutoModelForSequenceClassification\n",
    "from transformers import AutoTokenizer\n",
    "\n",
    "import os\n",
    "import numpy as np\n",
    "from scipy.special import softmax\n",
    "import csv\n",
    "import urllib.request\n",
    "\n",
    "from config import INPUT_DIR\n",
    "\n",
    "# Preprocess text (username and link placeholders)\n",
    "def preprocess(text):\n",
    "    new_text = []\n",
    "    for t in text.split(\" \"):\n",
    "        t = '@user' if t.startswith('@') and len(t) > 1 else t\n",
    "        t = 'http' if t.startswith('http') else t\n",
    "        new_text.append(t)\n",
    "    return \" \".join(new_text)\n",
    "\n",
    "# Tasks:\n",
    "# emoji, emotion, hate, irony, offensive, sentiment\n",
    "# stance/abortion, stance/atheism, stance/climate, stance/feminist, stance/hillary\n",
    "\n",
    "task = 'sentiment'\n",
    "MODEL = f\"cardiffnlp/twitter-roberta-base-{task}\"\n",
    "tokenizer = AutoTokenizer.from_pretrained(MODEL)\n",
    "\n",
    "# PT\n",
    "model = AutoModelForSequenceClassification.from_pretrained(MODEL)"
   ]
  },
  {
   "cell_type": "code",
   "execution_count": 15,
   "id": "prostate-poetry",
   "metadata": {},
   "outputs": [],
   "source": [
    "# label mapping\n",
    "labels = ['negative', 'neutral', 'positive']\n",
    "label2id = {k:v for k, v in zip(labels, range(3))}\n",
    "id2label = {k:v for k, v in zip(range(3), labels)}"
   ]
  },
  {
   "cell_type": "code",
   "execution_count": 16,
   "id": "anonymous-folder",
   "metadata": {},
   "outputs": [],
   "source": [
    "sentence = \"Oh sh*t!! What an awesome goal, I nearly missed it…\"\n",
    "# sentence = \"Yet call out all Muslims for the acts of a few will get you pilloried.   So why is it okay to smear an entire religion over these few idiots?  Or is this because it's okay to bash Christian sects?\"\n",
    "# sentence = \"Sorry to have to do this, but just to see if profanity filtering is enabled\"\n",
    "\n",
    "def predict_sentiment(sentence) :\n",
    "    text = preprocess(sentence)\n",
    "    encoded_input = tokenizer(text, return_tensors='pt')\n",
    "    output = model(**encoded_input)\n",
    "    scores = output[0][0].detach().numpy()\n",
    "    scores = softmax(scores)\n",
    "\n",
    "    sentiment = {id2label[idx]:s for idx, s in enumerate(scores)}\n",
    "\n",
    "    ranking = np.argsort(scores)\n",
    "    ranking = ranking[::-1]\n",
    "    ranking = [id2label[idx] for idx in ranking]\n",
    "\n",
    "    return sentiment, ranking"
   ]
  },
  {
   "cell_type": "code",
   "execution_count": 17,
   "id": "productive-fruit",
   "metadata": {},
   "outputs": [
    {
     "data": {
      "text/plain": [
       "({'negative': 0.21319842, 'neutral': 0.23147435, 'positive': 0.5553271},\n",
       " ['positive', 'neutral', 'negative'])"
      ]
     },
     "execution_count": 17,
     "metadata": {},
     "output_type": "execute_result"
    }
   ],
   "source": [
    "predict_sentiment(sentence)"
   ]
  }
 ],
 "metadata": {
  "kernelspec": {
   "display_name": "Python 3",
   "language": "python",
   "name": "python3"
  },
  "language_info": {
   "codemirror_mode": {
    "name": "ipython",
    "version": 3
   },
   "file_extension": ".py",
   "mimetype": "text/x-python",
   "name": "python",
   "nbconvert_exporter": "python",
   "pygments_lexer": "ipython3",
   "version": "3.7.9"
  }
 },
 "nbformat": 4,
 "nbformat_minor": 5
}
